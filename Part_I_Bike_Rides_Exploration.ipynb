{
 "cells": [
  {
   "cell_type": "markdown",
   "metadata": {},
   "source": [
    "# Part I - (Bike Sharing System Data Exploration)\n",
    "## by Stella Ahuchaogu\n",
    "\n",
    "## Introduction\n",
    "> This data set includes information about individual rides made in a bike-sharing system covering the greater San Francisco Bay area and New york city.\n",
    "\n",
    "> This dataset collects information from over one million users. A number of characteristics about the users are included in each row. The dataset used was downloaded maunally and some updates made using microsoft excel.\n",
    "\n",
    "- duration_sec - Tells us the duration of each trip by econds.\n",
    "- start_time - The start time of each ride \n",
    "- end_time - The end time of each trip\n",
    "- start_station_id - The ID of the start station\n",
    "- start_station_name -The name of start station at the begining of the trip\n",
    "- sart_station_latitude - the geographical latitude the start station\n",
    "- start_station_longitude - The geographical logitude the start station\n",
    "- end_station_id - The id of end station at the endf the trip\n",
    "- end_station_name- The name end station at the endf the trip\n",
    "- end_station_latitude - The geographical latitude end station\n",
    "- end_station_longitude - The geographical longitude of end station\n",
    "- bike_id - The Id of the bike\n",
    "- user_type - The type of user currently using the bike if they are customers or subscribers.\n",
    "- member_birth_year - The birth year of the customer\n",
    "- member_gender - The gender of the customer\n",
    "- bike_share_for_all_trip - The bike share data \n",
    "\n",
    "## Preliminary Wrangling\n"
   ]
  },
  {
   "cell_type": "code",
   "execution_count": 1,
   "metadata": {},
   "outputs": [],
   "source": [
    "# import all packages and set plots to be embedded inline\n",
    "import pandas as pd\n",
    "import numpy as np\n",
    "import matplotlib.pyplot as plt\n",
    "import seaborn as sb\n",
    "\n",
    "\n",
    "%matplotlib inline"
   ]
  },
  {
   "cell_type": "markdown",
   "metadata": {},
   "source": [
    "> Load in your dataset and describe its properties through the questions below. The dataset was downloaded manually from the websie.\n"
   ]
  },
  {
   "cell_type": "code",
   "execution_count": 2,
   "metadata": {},
   "outputs": [],
   "source": [
    "# load in the dataset into a pandas dataframe\n",
    "San_Francisco = pd.read_csv(\"201902-fordgobike-tripdata.csv\")\n",
    "New_york = pd.read_csv(\"201902-citibike-tripdata.csv\")"
   ]
  },
  {
   "cell_type": "code",
   "execution_count": 3,
   "metadata": {
    "scrolled": true
   },
   "outputs": [
    {
     "data": {
      "text/html": [
       "<div>\n",
       "<style scoped>\n",
       "    .dataframe tbody tr th:only-of-type {\n",
       "        vertical-align: middle;\n",
       "    }\n",
       "\n",
       "    .dataframe tbody tr th {\n",
       "        vertical-align: top;\n",
       "    }\n",
       "\n",
       "    .dataframe thead th {\n",
       "        text-align: right;\n",
       "    }\n",
       "</style>\n",
       "<table border=\"1\" class=\"dataframe\">\n",
       "  <thead>\n",
       "    <tr style=\"text-align: right;\">\n",
       "      <th></th>\n",
       "      <th>city</th>\n",
       "      <th>duration_sec</th>\n",
       "      <th>start_time</th>\n",
       "      <th>end_time</th>\n",
       "      <th>start_station_id</th>\n",
       "      <th>start_station_name</th>\n",
       "      <th>start_station_latitude</th>\n",
       "      <th>start_station_longitude</th>\n",
       "      <th>end_station_id</th>\n",
       "      <th>end_station_name</th>\n",
       "      <th>end_station_latitude</th>\n",
       "      <th>end_station_longitude</th>\n",
       "      <th>bike_id</th>\n",
       "      <th>user_type</th>\n",
       "      <th>member_birth_year</th>\n",
       "      <th>member_gender</th>\n",
       "      <th>bike_share_for_all_trip</th>\n",
       "    </tr>\n",
       "  </thead>\n",
       "  <tbody>\n",
       "    <tr>\n",
       "      <th>0</th>\n",
       "      <td>San Francisco Bay area</td>\n",
       "      <td>52185</td>\n",
       "      <td>12:32:10 AM</td>\n",
       "      <td>12:01:56 AM</td>\n",
       "      <td>21.0</td>\n",
       "      <td>Montgomery St BART Station (Market St at 2nd St)</td>\n",
       "      <td>37.789625</td>\n",
       "      <td>-122.400811</td>\n",
       "      <td>13.0</td>\n",
       "      <td>Commercial St at Montgomery St</td>\n",
       "      <td>37.794231</td>\n",
       "      <td>-122.402923</td>\n",
       "      <td>4902</td>\n",
       "      <td>Customer</td>\n",
       "      <td>1984.0</td>\n",
       "      <td>Male</td>\n",
       "      <td>No</td>\n",
       "    </tr>\n",
       "    <tr>\n",
       "      <th>1</th>\n",
       "      <td>San Francisco Bay area</td>\n",
       "      <td>42521</td>\n",
       "      <td>12:53:22 AM</td>\n",
       "      <td>12:42:03 AM</td>\n",
       "      <td>23.0</td>\n",
       "      <td>The Embarcadero at Steuart St</td>\n",
       "      <td>37.791464</td>\n",
       "      <td>-122.391034</td>\n",
       "      <td>81.0</td>\n",
       "      <td>Berry St at 4th St</td>\n",
       "      <td>37.775880</td>\n",
       "      <td>-122.393170</td>\n",
       "      <td>2535</td>\n",
       "      <td>Customer</td>\n",
       "      <td>NaN</td>\n",
       "      <td>NaN</td>\n",
       "      <td>No</td>\n",
       "    </tr>\n",
       "    <tr>\n",
       "      <th>2</th>\n",
       "      <td>San Francisco Bay area</td>\n",
       "      <td>61854</td>\n",
       "      <td>12:13:13 AM</td>\n",
       "      <td>12:24:08 AM</td>\n",
       "      <td>86.0</td>\n",
       "      <td>Market St at Dolores St</td>\n",
       "      <td>37.769305</td>\n",
       "      <td>-122.426826</td>\n",
       "      <td>3.0</td>\n",
       "      <td>Powell St BART Station (Market St at 4th St)</td>\n",
       "      <td>37.786375</td>\n",
       "      <td>-122.404904</td>\n",
       "      <td>5905</td>\n",
       "      <td>Customer</td>\n",
       "      <td>1972.0</td>\n",
       "      <td>Male</td>\n",
       "      <td>No</td>\n",
       "    </tr>\n",
       "    <tr>\n",
       "      <th>3</th>\n",
       "      <td>San Francisco Bay area</td>\n",
       "      <td>36490</td>\n",
       "      <td>12:54:26 AM</td>\n",
       "      <td>12:02:37 AM</td>\n",
       "      <td>375.0</td>\n",
       "      <td>Grove St at Masonic Ave</td>\n",
       "      <td>37.774836</td>\n",
       "      <td>-122.446546</td>\n",
       "      <td>70.0</td>\n",
       "      <td>Central Ave at Fell St</td>\n",
       "      <td>37.773311</td>\n",
       "      <td>-122.444293</td>\n",
       "      <td>6638</td>\n",
       "      <td>Subscriber</td>\n",
       "      <td>1989.0</td>\n",
       "      <td>Other</td>\n",
       "      <td>No</td>\n",
       "    </tr>\n",
       "    <tr>\n",
       "      <th>4</th>\n",
       "      <td>San Francisco Bay area</td>\n",
       "      <td>1585</td>\n",
       "      <td>12:54:19 AM</td>\n",
       "      <td>12:20:44 AM</td>\n",
       "      <td>7.0</td>\n",
       "      <td>Frank H Ogawa Plaza</td>\n",
       "      <td>37.804562</td>\n",
       "      <td>-122.271738</td>\n",
       "      <td>222.0</td>\n",
       "      <td>10th Ave at E 15th St</td>\n",
       "      <td>37.792714</td>\n",
       "      <td>-122.248780</td>\n",
       "      <td>4898</td>\n",
       "      <td>Subscriber</td>\n",
       "      <td>1974.0</td>\n",
       "      <td>Male</td>\n",
       "      <td>Yes</td>\n",
       "    </tr>\n",
       "  </tbody>\n",
       "</table>\n",
       "</div>"
      ],
      "text/plain": [
       "                     city  duration_sec   start_time     end_time  \\\n",
       "0  San Francisco Bay area         52185  12:32:10 AM  12:01:56 AM   \n",
       "1  San Francisco Bay area         42521  12:53:22 AM  12:42:03 AM   \n",
       "2  San Francisco Bay area         61854  12:13:13 AM  12:24:08 AM   \n",
       "3  San Francisco Bay area         36490  12:54:26 AM  12:02:37 AM   \n",
       "4  San Francisco Bay area          1585  12:54:19 AM  12:20:44 AM   \n",
       "\n",
       "   start_station_id                                start_station_name  \\\n",
       "0              21.0  Montgomery St BART Station (Market St at 2nd St)   \n",
       "1              23.0                     The Embarcadero at Steuart St   \n",
       "2              86.0                           Market St at Dolores St   \n",
       "3             375.0                           Grove St at Masonic Ave   \n",
       "4               7.0                               Frank H Ogawa Plaza   \n",
       "\n",
       "   start_station_latitude  start_station_longitude  end_station_id  \\\n",
       "0               37.789625              -122.400811            13.0   \n",
       "1               37.791464              -122.391034            81.0   \n",
       "2               37.769305              -122.426826             3.0   \n",
       "3               37.774836              -122.446546            70.0   \n",
       "4               37.804562              -122.271738           222.0   \n",
       "\n",
       "                               end_station_name  end_station_latitude  \\\n",
       "0                Commercial St at Montgomery St             37.794231   \n",
       "1                            Berry St at 4th St             37.775880   \n",
       "2  Powell St BART Station (Market St at 4th St)             37.786375   \n",
       "3                        Central Ave at Fell St             37.773311   \n",
       "4                         10th Ave at E 15th St             37.792714   \n",
       "\n",
       "   end_station_longitude  bike_id   user_type  member_birth_year  \\\n",
       "0            -122.402923     4902    Customer             1984.0   \n",
       "1            -122.393170     2535    Customer                NaN   \n",
       "2            -122.404904     5905    Customer             1972.0   \n",
       "3            -122.444293     6638  Subscriber             1989.0   \n",
       "4            -122.248780     4898  Subscriber             1974.0   \n",
       "\n",
       "  member_gender bike_share_for_all_trip  \n",
       "0          Male                      No  \n",
       "1           NaN                      No  \n",
       "2          Male                      No  \n",
       "3         Other                      No  \n",
       "4          Male                     Yes  "
      ]
     },
     "execution_count": 3,
     "metadata": {},
     "output_type": "execute_result"
    }
   ],
   "source": [
    "# Viewing the dataset\n",
    "San_Francisco.head()"
   ]
  },
  {
   "cell_type": "code",
   "execution_count": 4,
   "metadata": {
    "scrolled": false
   },
   "outputs": [
    {
     "data": {
      "text/html": [
       "<div>\n",
       "<style scoped>\n",
       "    .dataframe tbody tr th:only-of-type {\n",
       "        vertical-align: middle;\n",
       "    }\n",
       "\n",
       "    .dataframe tbody tr th {\n",
       "        vertical-align: top;\n",
       "    }\n",
       "\n",
       "    .dataframe thead th {\n",
       "        text-align: right;\n",
       "    }\n",
       "</style>\n",
       "<table border=\"1\" class=\"dataframe\">\n",
       "  <thead>\n",
       "    <tr style=\"text-align: right;\">\n",
       "      <th></th>\n",
       "      <th>city</th>\n",
       "      <th>duration_sec</th>\n",
       "      <th>start_time</th>\n",
       "      <th>end_time</th>\n",
       "      <th>start_station_id</th>\n",
       "      <th>start_station_name</th>\n",
       "      <th>start_station_latitude</th>\n",
       "      <th>start_station_longitude</th>\n",
       "      <th>end_station_id</th>\n",
       "      <th>end_station_name</th>\n",
       "      <th>end_station_latitude</th>\n",
       "      <th>end_station_longitude</th>\n",
       "      <th>bike_id</th>\n",
       "      <th>user_type</th>\n",
       "      <th>member_birth_year</th>\n",
       "      <th>member_gender</th>\n",
       "    </tr>\n",
       "  </thead>\n",
       "  <tbody>\n",
       "    <tr>\n",
       "      <th>0</th>\n",
       "      <td>New York City, NY</td>\n",
       "      <td>219</td>\n",
       "      <td>12:00:06 AM</td>\n",
       "      <td>12:03:46 AM</td>\n",
       "      <td>3494.0</td>\n",
       "      <td>E 115 St &amp; Lexington Ave</td>\n",
       "      <td>40.797911</td>\n",
       "      <td>-73.942300</td>\n",
       "      <td>3501.0</td>\n",
       "      <td>E 118 St &amp; Madison Ave</td>\n",
       "      <td>40.801487</td>\n",
       "      <td>-73.944251</td>\n",
       "      <td>33450</td>\n",
       "      <td>Subscriber</td>\n",
       "      <td>1989</td>\n",
       "      <td>Male</td>\n",
       "    </tr>\n",
       "    <tr>\n",
       "      <th>1</th>\n",
       "      <td>New York City, NY</td>\n",
       "      <td>143</td>\n",
       "      <td>12:00:28 AM</td>\n",
       "      <td>12:02:52 AM</td>\n",
       "      <td>438.0</td>\n",
       "      <td>St Marks Pl &amp; 1 Ave</td>\n",
       "      <td>40.727791</td>\n",
       "      <td>-73.985649</td>\n",
       "      <td>236.0</td>\n",
       "      <td>St Marks Pl &amp; 2 Ave</td>\n",
       "      <td>40.728419</td>\n",
       "      <td>-73.987140</td>\n",
       "      <td>25626</td>\n",
       "      <td>Subscriber</td>\n",
       "      <td>1990</td>\n",
       "      <td>Male</td>\n",
       "    </tr>\n",
       "    <tr>\n",
       "      <th>2</th>\n",
       "      <td>New York City, NY</td>\n",
       "      <td>296</td>\n",
       "      <td>12:01:14 AM</td>\n",
       "      <td>12:06:11 AM</td>\n",
       "      <td>3571.0</td>\n",
       "      <td>Bedford Ave &amp; Bergen St</td>\n",
       "      <td>40.676368</td>\n",
       "      <td>-73.952918</td>\n",
       "      <td>3549.0</td>\n",
       "      <td>Grand Ave &amp; Bergen St</td>\n",
       "      <td>40.678045</td>\n",
       "      <td>-73.962408</td>\n",
       "      <td>35568</td>\n",
       "      <td>Subscriber</td>\n",
       "      <td>1987</td>\n",
       "      <td>Male</td>\n",
       "    </tr>\n",
       "    <tr>\n",
       "      <th>3</th>\n",
       "      <td>New York City, NY</td>\n",
       "      <td>478</td>\n",
       "      <td>12:01:14 AM</td>\n",
       "      <td>12:09:13 AM</td>\n",
       "      <td>167.0</td>\n",
       "      <td>E 39 St &amp; 3 Ave</td>\n",
       "      <td>40.748901</td>\n",
       "      <td>-73.976049</td>\n",
       "      <td>477.0</td>\n",
       "      <td>W 41 St &amp; 8 Ave</td>\n",
       "      <td>40.756405</td>\n",
       "      <td>-73.990026</td>\n",
       "      <td>25045</td>\n",
       "      <td>Subscriber</td>\n",
       "      <td>1964</td>\n",
       "      <td>Female</td>\n",
       "    </tr>\n",
       "    <tr>\n",
       "      <th>4</th>\n",
       "      <td>New York City, NY</td>\n",
       "      <td>225</td>\n",
       "      <td>12:01:49 AM</td>\n",
       "      <td>12:05:35 AM</td>\n",
       "      <td>3458.0</td>\n",
       "      <td>W 55 St &amp; 6 Ave</td>\n",
       "      <td>40.763094</td>\n",
       "      <td>-73.978350</td>\n",
       "      <td>3443.0</td>\n",
       "      <td>W 52 St &amp; 6 Ave</td>\n",
       "      <td>40.761330</td>\n",
       "      <td>-73.979820</td>\n",
       "      <td>34006</td>\n",
       "      <td>Subscriber</td>\n",
       "      <td>1979</td>\n",
       "      <td>Male</td>\n",
       "    </tr>\n",
       "  </tbody>\n",
       "</table>\n",
       "</div>"
      ],
      "text/plain": [
       "                city  duration_sec   start_time     end_time  \\\n",
       "0  New York City, NY           219  12:00:06 AM  12:03:46 AM   \n",
       "1  New York City, NY           143  12:00:28 AM  12:02:52 AM   \n",
       "2  New York City, NY           296  12:01:14 AM  12:06:11 AM   \n",
       "3  New York City, NY           478  12:01:14 AM  12:09:13 AM   \n",
       "4  New York City, NY           225  12:01:49 AM  12:05:35 AM   \n",
       "\n",
       "   start_station_id        start_station_name  start_station_latitude  \\\n",
       "0            3494.0  E 115 St & Lexington Ave               40.797911   \n",
       "1             438.0       St Marks Pl & 1 Ave               40.727791   \n",
       "2            3571.0   Bedford Ave & Bergen St               40.676368   \n",
       "3             167.0           E 39 St & 3 Ave               40.748901   \n",
       "4            3458.0           W 55 St & 6 Ave               40.763094   \n",
       "\n",
       "   start_station_longitude  end_station_id        end_station_name  \\\n",
       "0               -73.942300          3501.0  E 118 St & Madison Ave   \n",
       "1               -73.985649           236.0     St Marks Pl & 2 Ave   \n",
       "2               -73.952918          3549.0   Grand Ave & Bergen St   \n",
       "3               -73.976049           477.0         W 41 St & 8 Ave   \n",
       "4               -73.978350          3443.0         W 52 St & 6 Ave   \n",
       "\n",
       "   end_station_latitude  end_station_longitude  bike_id   user_type  \\\n",
       "0             40.801487             -73.944251    33450  Subscriber   \n",
       "1             40.728419             -73.987140    25626  Subscriber   \n",
       "2             40.678045             -73.962408    35568  Subscriber   \n",
       "3             40.756405             -73.990026    25045  Subscriber   \n",
       "4             40.761330             -73.979820    34006  Subscriber   \n",
       "\n",
       "   member_birth_year member_gender  \n",
       "0               1989          Male  \n",
       "1               1990          Male  \n",
       "2               1987          Male  \n",
       "3               1964        Female  \n",
       "4               1979          Male  "
      ]
     },
     "execution_count": 4,
     "metadata": {},
     "output_type": "execute_result"
    }
   ],
   "source": [
    "# Viewing the new york data frame\n",
    "New_york.head()"
   ]
  },
  {
   "cell_type": "code",
   "execution_count": 5,
   "metadata": {},
   "outputs": [
    {
     "data": {
      "text/html": [
       "<div>\n",
       "<style scoped>\n",
       "    .dataframe tbody tr th:only-of-type {\n",
       "        vertical-align: middle;\n",
       "    }\n",
       "\n",
       "    .dataframe tbody tr th {\n",
       "        vertical-align: top;\n",
       "    }\n",
       "\n",
       "    .dataframe thead th {\n",
       "        text-align: right;\n",
       "    }\n",
       "</style>\n",
       "<table border=\"1\" class=\"dataframe\">\n",
       "  <thead>\n",
       "    <tr style=\"text-align: right;\">\n",
       "      <th></th>\n",
       "      <th>city</th>\n",
       "      <th>duration_sec</th>\n",
       "      <th>start_time</th>\n",
       "      <th>end_time</th>\n",
       "      <th>start_station_id</th>\n",
       "      <th>start_station_name</th>\n",
       "      <th>start_station_latitude</th>\n",
       "      <th>start_station_longitude</th>\n",
       "      <th>end_station_id</th>\n",
       "      <th>end_station_name</th>\n",
       "      <th>end_station_latitude</th>\n",
       "      <th>end_station_longitude</th>\n",
       "      <th>bike_id</th>\n",
       "      <th>user_type</th>\n",
       "      <th>member_birth_year</th>\n",
       "      <th>member_gender</th>\n",
       "      <th>bike_share_for_all_trip</th>\n",
       "    </tr>\n",
       "  </thead>\n",
       "  <tbody>\n",
       "    <tr>\n",
       "      <th>150154</th>\n",
       "      <td>New York City, NY</td>\n",
       "      <td>681</td>\n",
       "      <td>12:17:18 AM</td>\n",
       "      <td>12:28:39 AM</td>\n",
       "      <td>435.0</td>\n",
       "      <td>W 21 St &amp; 6 Ave</td>\n",
       "      <td>40.741740</td>\n",
       "      <td>-73.994156</td>\n",
       "      <td>487.0</td>\n",
       "      <td>E 20 St &amp; FDR Drive</td>\n",
       "      <td>40.733143</td>\n",
       "      <td>-73.975739</td>\n",
       "      <td>26756</td>\n",
       "      <td>Subscriber</td>\n",
       "      <td>1974.0</td>\n",
       "      <td>Female</td>\n",
       "      <td>NaN</td>\n",
       "    </tr>\n",
       "    <tr>\n",
       "      <th>850965</th>\n",
       "      <td>New York City, NY</td>\n",
       "      <td>349</td>\n",
       "      <td>12:59:44 AM</td>\n",
       "      <td>12:05:33 AM</td>\n",
       "      <td>478.0</td>\n",
       "      <td>11 Ave &amp; W 41 St</td>\n",
       "      <td>40.760301</td>\n",
       "      <td>-73.998842</td>\n",
       "      <td>490.0</td>\n",
       "      <td>8 Ave &amp; W 33 St</td>\n",
       "      <td>40.751551</td>\n",
       "      <td>-73.993934</td>\n",
       "      <td>35539</td>\n",
       "      <td>Subscriber</td>\n",
       "      <td>1984.0</td>\n",
       "      <td>Male</td>\n",
       "      <td>NaN</td>\n",
       "    </tr>\n",
       "    <tr>\n",
       "      <th>134098</th>\n",
       "      <td>San Francisco Bay area</td>\n",
       "      <td>570</td>\n",
       "      <td>12:51:23 AM</td>\n",
       "      <td>12:00:53 AM</td>\n",
       "      <td>176.0</td>\n",
       "      <td>MacArthur BART Station</td>\n",
       "      <td>37.828410</td>\n",
       "      <td>-122.266315</td>\n",
       "      <td>188.0</td>\n",
       "      <td>Dover St at 57th St</td>\n",
       "      <td>37.842630</td>\n",
       "      <td>-122.267738</td>\n",
       "      <td>304</td>\n",
       "      <td>Subscriber</td>\n",
       "      <td>1982.0</td>\n",
       "      <td>Male</td>\n",
       "      <td>No</td>\n",
       "    </tr>\n",
       "    <tr>\n",
       "      <th>455915</th>\n",
       "      <td>New York City, NY</td>\n",
       "      <td>582</td>\n",
       "      <td>12:28:48 AM</td>\n",
       "      <td>12:38:30 AM</td>\n",
       "      <td>518.0</td>\n",
       "      <td>E 39 St &amp; 2 Ave</td>\n",
       "      <td>40.747804</td>\n",
       "      <td>-73.973442</td>\n",
       "      <td>477.0</td>\n",
       "      <td>W 41 St &amp; 8 Ave</td>\n",
       "      <td>40.756405</td>\n",
       "      <td>-73.990026</td>\n",
       "      <td>34254</td>\n",
       "      <td>Subscriber</td>\n",
       "      <td>1971.0</td>\n",
       "      <td>Male</td>\n",
       "      <td>NaN</td>\n",
       "    </tr>\n",
       "    <tr>\n",
       "      <th>904075</th>\n",
       "      <td>New York City, NY</td>\n",
       "      <td>489</td>\n",
       "      <td>12:41:05 AM</td>\n",
       "      <td>12:49:15 AM</td>\n",
       "      <td>161.0</td>\n",
       "      <td>LaGuardia Pl &amp; W 3 St</td>\n",
       "      <td>40.729170</td>\n",
       "      <td>-73.998102</td>\n",
       "      <td>320.0</td>\n",
       "      <td>Leonard St &amp; Church St</td>\n",
       "      <td>40.717571</td>\n",
       "      <td>-74.005549</td>\n",
       "      <td>33563</td>\n",
       "      <td>Subscriber</td>\n",
       "      <td>1998.0</td>\n",
       "      <td>Male</td>\n",
       "      <td>NaN</td>\n",
       "    </tr>\n",
       "    <tr>\n",
       "      <th>116877</th>\n",
       "      <td>San Francisco Bay area</td>\n",
       "      <td>232</td>\n",
       "      <td>12:04:22 AM</td>\n",
       "      <td>12:08:14 AM</td>\n",
       "      <td>7.0</td>\n",
       "      <td>Frank H Ogawa Plaza</td>\n",
       "      <td>37.804562</td>\n",
       "      <td>-122.271738</td>\n",
       "      <td>219.0</td>\n",
       "      <td>Marston Campbell Park</td>\n",
       "      <td>37.809824</td>\n",
       "      <td>-122.280192</td>\n",
       "      <td>2886</td>\n",
       "      <td>Subscriber</td>\n",
       "      <td>1980.0</td>\n",
       "      <td>Female</td>\n",
       "      <td>No</td>\n",
       "    </tr>\n",
       "    <tr>\n",
       "      <th>257034</th>\n",
       "      <td>New York City, NY</td>\n",
       "      <td>944</td>\n",
       "      <td>12:48:04 AM</td>\n",
       "      <td>12:03:48 AM</td>\n",
       "      <td>517.0</td>\n",
       "      <td>Pershing Square South</td>\n",
       "      <td>40.751581</td>\n",
       "      <td>-73.977910</td>\n",
       "      <td>3286.0</td>\n",
       "      <td>E 89 St &amp; 3 Ave</td>\n",
       "      <td>40.780628</td>\n",
       "      <td>-73.952167</td>\n",
       "      <td>15112</td>\n",
       "      <td>Subscriber</td>\n",
       "      <td>1973.0</td>\n",
       "      <td>Male</td>\n",
       "      <td>NaN</td>\n",
       "    </tr>\n",
       "    <tr>\n",
       "      <th>180089</th>\n",
       "      <td>San Francisco Bay area</td>\n",
       "      <td>199</td>\n",
       "      <td>12:07:35 AM</td>\n",
       "      <td>12:10:54 AM</td>\n",
       "      <td>60.0</td>\n",
       "      <td>8th St at Ringold St</td>\n",
       "      <td>37.774520</td>\n",
       "      <td>-122.409449</td>\n",
       "      <td>321.0</td>\n",
       "      <td>5th St at Folsom</td>\n",
       "      <td>37.780146</td>\n",
       "      <td>-122.403071</td>\n",
       "      <td>5472</td>\n",
       "      <td>Subscriber</td>\n",
       "      <td>1974.0</td>\n",
       "      <td>Male</td>\n",
       "      <td>No</td>\n",
       "    </tr>\n",
       "    <tr>\n",
       "      <th>66279</th>\n",
       "      <td>San Francisco Bay area</td>\n",
       "      <td>368</td>\n",
       "      <td>12:53:04 AM</td>\n",
       "      <td>12:59:13 AM</td>\n",
       "      <td>23.0</td>\n",
       "      <td>The Embarcadero at Steuart St</td>\n",
       "      <td>37.791464</td>\n",
       "      <td>-122.391034</td>\n",
       "      <td>50.0</td>\n",
       "      <td>2nd St at Townsend St</td>\n",
       "      <td>37.780526</td>\n",
       "      <td>-122.390288</td>\n",
       "      <td>4850</td>\n",
       "      <td>Subscriber</td>\n",
       "      <td>1983.0</td>\n",
       "      <td>Male</td>\n",
       "      <td>No</td>\n",
       "    </tr>\n",
       "    <tr>\n",
       "      <th>477694</th>\n",
       "      <td>New York City, NY</td>\n",
       "      <td>1553</td>\n",
       "      <td>12:28:37 AM</td>\n",
       "      <td>12:54:31 AM</td>\n",
       "      <td>304.0</td>\n",
       "      <td>Broadway &amp; Battery Pl</td>\n",
       "      <td>40.704633</td>\n",
       "      <td>-74.013617</td>\n",
       "      <td>3078.0</td>\n",
       "      <td>Broadway &amp; Roebling St</td>\n",
       "      <td>40.709248</td>\n",
       "      <td>-73.960631</td>\n",
       "      <td>25092</td>\n",
       "      <td>Subscriber</td>\n",
       "      <td>1981.0</td>\n",
       "      <td>Male</td>\n",
       "      <td>NaN</td>\n",
       "    </tr>\n",
       "  </tbody>\n",
       "</table>\n",
       "</div>"
      ],
      "text/plain": [
       "                          city  duration_sec   start_time     end_time  \\\n",
       "150154       New York City, NY           681  12:17:18 AM  12:28:39 AM   \n",
       "850965       New York City, NY           349  12:59:44 AM  12:05:33 AM   \n",
       "134098  San Francisco Bay area           570  12:51:23 AM  12:00:53 AM   \n",
       "455915       New York City, NY           582  12:28:48 AM  12:38:30 AM   \n",
       "904075       New York City, NY           489  12:41:05 AM  12:49:15 AM   \n",
       "116877  San Francisco Bay area           232  12:04:22 AM  12:08:14 AM   \n",
       "257034       New York City, NY           944  12:48:04 AM  12:03:48 AM   \n",
       "180089  San Francisco Bay area           199  12:07:35 AM  12:10:54 AM   \n",
       "66279   San Francisco Bay area           368  12:53:04 AM  12:59:13 AM   \n",
       "477694       New York City, NY          1553  12:28:37 AM  12:54:31 AM   \n",
       "\n",
       "        start_station_id             start_station_name  \\\n",
       "150154             435.0                W 21 St & 6 Ave   \n",
       "850965             478.0               11 Ave & W 41 St   \n",
       "134098             176.0         MacArthur BART Station   \n",
       "455915             518.0                E 39 St & 2 Ave   \n",
       "904075             161.0          LaGuardia Pl & W 3 St   \n",
       "116877               7.0            Frank H Ogawa Plaza   \n",
       "257034             517.0          Pershing Square South   \n",
       "180089              60.0           8th St at Ringold St   \n",
       "66279               23.0  The Embarcadero at Steuart St   \n",
       "477694             304.0          Broadway & Battery Pl   \n",
       "\n",
       "        start_station_latitude  start_station_longitude  end_station_id  \\\n",
       "150154               40.741740               -73.994156           487.0   \n",
       "850965               40.760301               -73.998842           490.0   \n",
       "134098               37.828410              -122.266315           188.0   \n",
       "455915               40.747804               -73.973442           477.0   \n",
       "904075               40.729170               -73.998102           320.0   \n",
       "116877               37.804562              -122.271738           219.0   \n",
       "257034               40.751581               -73.977910          3286.0   \n",
       "180089               37.774520              -122.409449           321.0   \n",
       "66279                37.791464              -122.391034            50.0   \n",
       "477694               40.704633               -74.013617          3078.0   \n",
       "\n",
       "              end_station_name  end_station_latitude  end_station_longitude  \\\n",
       "150154     E 20 St & FDR Drive             40.733143             -73.975739   \n",
       "850965         8 Ave & W 33 St             40.751551             -73.993934   \n",
       "134098     Dover St at 57th St             37.842630            -122.267738   \n",
       "455915         W 41 St & 8 Ave             40.756405             -73.990026   \n",
       "904075  Leonard St & Church St             40.717571             -74.005549   \n",
       "116877   Marston Campbell Park             37.809824            -122.280192   \n",
       "257034         E 89 St & 3 Ave             40.780628             -73.952167   \n",
       "180089        5th St at Folsom             37.780146            -122.403071   \n",
       "66279    2nd St at Townsend St             37.780526            -122.390288   \n",
       "477694  Broadway & Roebling St             40.709248             -73.960631   \n",
       "\n",
       "        bike_id   user_type  member_birth_year member_gender  \\\n",
       "150154    26756  Subscriber             1974.0        Female   \n",
       "850965    35539  Subscriber             1984.0          Male   \n",
       "134098      304  Subscriber             1982.0          Male   \n",
       "455915    34254  Subscriber             1971.0          Male   \n",
       "904075    33563  Subscriber             1998.0          Male   \n",
       "116877     2886  Subscriber             1980.0        Female   \n",
       "257034    15112  Subscriber             1973.0          Male   \n",
       "180089     5472  Subscriber             1974.0          Male   \n",
       "66279      4850  Subscriber             1983.0          Male   \n",
       "477694    25092  Subscriber             1981.0          Male   \n",
       "\n",
       "       bike_share_for_all_trip  \n",
       "150154                     NaN  \n",
       "850965                     NaN  \n",
       "134098                      No  \n",
       "455915                     NaN  \n",
       "904075                     NaN  \n",
       "116877                      No  \n",
       "257034                     NaN  \n",
       "180089                      No  \n",
       "66279                       No  \n",
       "477694                     NaN  "
      ]
     },
     "execution_count": 5,
     "metadata": {},
     "output_type": "execute_result"
    }
   ],
   "source": [
    "# using the concate function to combine the datasets\n",
    "Data = [San_Francisco, New_york]\n",
    "df = pd.concat(Data)\n",
    "df.sample(10)"
   ]
  },
  {
   "cell_type": "code",
   "execution_count": 6,
   "metadata": {},
   "outputs": [
    {
     "data": {
      "text/plain": [
       "['city',\n",
       " 'duration_sec',\n",
       " 'start_time',\n",
       " 'end_time',\n",
       " 'start_station_id',\n",
       " 'start_station_name',\n",
       " 'start_station_latitude',\n",
       " 'start_station_longitude',\n",
       " 'end_station_id',\n",
       " 'end_station_name',\n",
       " 'end_station_latitude',\n",
       " 'end_station_longitude',\n",
       " 'bike_id',\n",
       " 'user_type',\n",
       " 'member_birth_year',\n",
       " 'member_gender',\n",
       " 'bike_share_for_all_trip']"
      ]
     },
     "execution_count": 6,
     "metadata": {},
     "output_type": "execute_result"
    }
   ],
   "source": [
    "# Getting the list columns in the data frame\n",
    "list(df.columns)"
   ]
  },
  {
   "cell_type": "code",
   "execution_count": 7,
   "metadata": {
    "scrolled": true
   },
   "outputs": [
    {
     "name": "stdout",
     "output_type": "stream",
     "text": [
      "(1127156, 17)\n",
      "city                        object\n",
      "duration_sec                 int64\n",
      "start_time                  object\n",
      "end_time                    object\n",
      "start_station_id           float64\n",
      "start_station_name          object\n",
      "start_station_latitude     float64\n",
      "start_station_longitude    float64\n",
      "end_station_id             float64\n",
      "end_station_name            object\n",
      "end_station_latitude       float64\n",
      "end_station_longitude      float64\n",
      "bike_id                      int64\n",
      "user_type                   object\n",
      "member_birth_year          float64\n",
      "member_gender               object\n",
      "bike_share_for_all_trip     object\n",
      "dtype: object\n"
     ]
    }
   ],
   "source": [
    "# high-level overview of data shape and composition\n",
    "print(df.shape)\n",
    "print(df.dtypes)"
   ]
  },
  {
   "cell_type": "code",
   "execution_count": 8,
   "metadata": {},
   "outputs": [
    {
     "name": "stdout",
     "output_type": "stream",
     "text": [
      "0\n"
     ]
    }
   ],
   "source": [
    "#checking for duplicates in the dataset\n",
    "print(df.duplicated().sum())"
   ]
  },
  {
   "cell_type": "code",
   "execution_count": 9,
   "metadata": {
    "scrolled": true
   },
   "outputs": [
    {
     "data": {
      "text/plain": [
       "city                            0\n",
       "duration_sec                    0\n",
       "start_time                      0\n",
       "end_time                        0\n",
       "start_station_id              206\n",
       "start_station_name            206\n",
       "start_station_latitude          0\n",
       "start_station_longitude         0\n",
       "end_station_id                206\n",
       "end_station_name              206\n",
       "end_station_latitude            0\n",
       "end_station_longitude           0\n",
       "bike_id                         0\n",
       "user_type                       0\n",
       "member_birth_year            8265\n",
       "member_gender                8265\n",
       "bike_share_for_all_trip    943744\n",
       "dtype: int64"
      ]
     },
     "execution_count": 9,
     "metadata": {},
     "output_type": "execute_result"
    }
   ],
   "source": [
    "#checking for missing values\n",
    "df.isnull().sum()"
   ]
  },
  {
   "cell_type": "code",
   "execution_count": 10,
   "metadata": {},
   "outputs": [
    {
     "data": {
      "text/plain": [
       "city                           2\n",
       "duration_sec                7926\n",
       "start_time                  3601\n",
       "end_time                    3601\n",
       "start_station_id             982\n",
       "start_station_name          1096\n",
       "start_station_latitude      1107\n",
       "start_station_longitude     1106\n",
       "end_station_id               985\n",
       "end_station_name            1099\n",
       "end_station_latitude        1109\n",
       "end_station_longitude       1109\n",
       "bike_id                    17266\n",
       "user_type                      2\n",
       "member_birth_year            102\n",
       "member_gender                  3\n",
       "bike_share_for_all_trip        2\n",
       "dtype: int64"
      ]
     },
     "execution_count": 10,
     "metadata": {},
     "output_type": "execute_result"
    }
   ],
   "source": [
    "df.nunique()"
   ]
  },
  {
   "cell_type": "code",
   "execution_count": 11,
   "metadata": {},
   "outputs": [
    {
     "data": {
      "text/html": [
       "<div>\n",
       "<style scoped>\n",
       "    .dataframe tbody tr th:only-of-type {\n",
       "        vertical-align: middle;\n",
       "    }\n",
       "\n",
       "    .dataframe tbody tr th {\n",
       "        vertical-align: top;\n",
       "    }\n",
       "\n",
       "    .dataframe thead th {\n",
       "        text-align: right;\n",
       "    }\n",
       "</style>\n",
       "<table border=\"1\" class=\"dataframe\">\n",
       "  <thead>\n",
       "    <tr style=\"text-align: right;\">\n",
       "      <th></th>\n",
       "      <th>duration_sec</th>\n",
       "      <th>start_station_id</th>\n",
       "      <th>start_station_latitude</th>\n",
       "      <th>start_station_longitude</th>\n",
       "      <th>end_station_id</th>\n",
       "      <th>end_station_latitude</th>\n",
       "      <th>end_station_longitude</th>\n",
       "      <th>bike_id</th>\n",
       "      <th>member_birth_year</th>\n",
       "    </tr>\n",
       "  </thead>\n",
       "  <tbody>\n",
       "    <tr>\n",
       "      <th>count</th>\n",
       "      <td>1.127156e+06</td>\n",
       "      <td>1.126950e+06</td>\n",
       "      <td>1.127156e+06</td>\n",
       "      <td>1.127156e+06</td>\n",
       "      <td>1.126950e+06</td>\n",
       "      <td>1.127156e+06</td>\n",
       "      <td>1.127156e+06</td>\n",
       "      <td>1.127156e+06</td>\n",
       "      <td>1.118891e+06</td>\n",
       "    </tr>\n",
       "    <tr>\n",
       "      <th>mean</th>\n",
       "      <td>7.919680e+02</td>\n",
       "      <td>1.374596e+03</td>\n",
       "      <td>4.025464e+01</td>\n",
       "      <td>-8.185306e+01</td>\n",
       "      <td>1.365870e+03</td>\n",
       "      <td>4.025457e+01</td>\n",
       "      <td>-8.185320e+01</td>\n",
       "      <td>2.498296e+04</td>\n",
       "      <td>1.980098e+03</td>\n",
       "    </tr>\n",
       "    <tr>\n",
       "      <th>std</th>\n",
       "      <td>6.909672e+03</td>\n",
       "      <td>1.440298e+03</td>\n",
       "      <td>1.095889e+00</td>\n",
       "      <td>1.785416e+01</td>\n",
       "      <td>1.438468e+03</td>\n",
       "      <td>1.095760e+00</td>\n",
       "      <td>1.785392e+01</td>\n",
       "      <td>1.071909e+04</td>\n",
       "      <td>1.204981e+01</td>\n",
       "    </tr>\n",
       "    <tr>\n",
       "      <th>min</th>\n",
       "      <td>6.100000e+01</td>\n",
       "      <td>3.000000e+00</td>\n",
       "      <td>3.731730e+01</td>\n",
       "      <td>-1.224537e+02</td>\n",
       "      <td>3.000000e+00</td>\n",
       "      <td>3.731730e+01</td>\n",
       "      <td>-1.224537e+02</td>\n",
       "      <td>1.100000e+01</td>\n",
       "      <td>1.878000e+03</td>\n",
       "    </tr>\n",
       "    <tr>\n",
       "      <th>25%</th>\n",
       "      <td>3.170000e+02</td>\n",
       "      <td>3.010000e+02</td>\n",
       "      <td>4.069327e+01</td>\n",
       "      <td>-7.400412e+01</td>\n",
       "      <td>2.980000e+02</td>\n",
       "      <td>4.069383e+01</td>\n",
       "      <td>-7.400414e+01</td>\n",
       "      <td>1.814900e+04</td>\n",
       "      <td>1.971000e+03</td>\n",
       "    </tr>\n",
       "    <tr>\n",
       "      <th>50%</th>\n",
       "      <td>5.170000e+02</td>\n",
       "      <td>4.730000e+02</td>\n",
       "      <td>4.073047e+01</td>\n",
       "      <td>-7.398919e+01</td>\n",
       "      <td>4.720000e+02</td>\n",
       "      <td>4.073047e+01</td>\n",
       "      <td>-7.398955e+01</td>\n",
       "      <td>2.941200e+04</td>\n",
       "      <td>1.983000e+03</td>\n",
       "    </tr>\n",
       "    <tr>\n",
       "      <th>75%</th>\n",
       "      <td>8.630000e+02</td>\n",
       "      <td>3.168000e+03</td>\n",
       "      <td>4.075217e+01</td>\n",
       "      <td>-7.397632e+01</td>\n",
       "      <td>3.167000e+03</td>\n",
       "      <td>4.075187e+01</td>\n",
       "      <td>-7.397667e+01</td>\n",
       "      <td>3.374100e+04</td>\n",
       "      <td>1.990000e+03</td>\n",
       "    </tr>\n",
       "    <tr>\n",
       "      <th>max</th>\n",
       "      <td>2.403037e+06</td>\n",
       "      <td>3.745000e+03</td>\n",
       "      <td>4.086600e+01</td>\n",
       "      <td>-7.388100e+01</td>\n",
       "      <td>3.745000e+03</td>\n",
       "      <td>4.086600e+01</td>\n",
       "      <td>-7.388100e+01</td>\n",
       "      <td>3.790700e+04</td>\n",
       "      <td>2.003000e+03</td>\n",
       "    </tr>\n",
       "  </tbody>\n",
       "</table>\n",
       "</div>"
      ],
      "text/plain": [
       "       duration_sec  start_station_id  start_station_latitude  \\\n",
       "count  1.127156e+06      1.126950e+06            1.127156e+06   \n",
       "mean   7.919680e+02      1.374596e+03            4.025464e+01   \n",
       "std    6.909672e+03      1.440298e+03            1.095889e+00   \n",
       "min    6.100000e+01      3.000000e+00            3.731730e+01   \n",
       "25%    3.170000e+02      3.010000e+02            4.069327e+01   \n",
       "50%    5.170000e+02      4.730000e+02            4.073047e+01   \n",
       "75%    8.630000e+02      3.168000e+03            4.075217e+01   \n",
       "max    2.403037e+06      3.745000e+03            4.086600e+01   \n",
       "\n",
       "       start_station_longitude  end_station_id  end_station_latitude  \\\n",
       "count             1.127156e+06    1.126950e+06          1.127156e+06   \n",
       "mean             -8.185306e+01    1.365870e+03          4.025457e+01   \n",
       "std               1.785416e+01    1.438468e+03          1.095760e+00   \n",
       "min              -1.224537e+02    3.000000e+00          3.731730e+01   \n",
       "25%              -7.400412e+01    2.980000e+02          4.069383e+01   \n",
       "50%              -7.398919e+01    4.720000e+02          4.073047e+01   \n",
       "75%              -7.397632e+01    3.167000e+03          4.075187e+01   \n",
       "max              -7.388100e+01    3.745000e+03          4.086600e+01   \n",
       "\n",
       "       end_station_longitude       bike_id  member_birth_year  \n",
       "count           1.127156e+06  1.127156e+06       1.118891e+06  \n",
       "mean           -8.185320e+01  2.498296e+04       1.980098e+03  \n",
       "std             1.785392e+01  1.071909e+04       1.204981e+01  \n",
       "min            -1.224537e+02  1.100000e+01       1.878000e+03  \n",
       "25%            -7.400414e+01  1.814900e+04       1.971000e+03  \n",
       "50%            -7.398955e+01  2.941200e+04       1.983000e+03  \n",
       "75%            -7.397667e+01  3.374100e+04       1.990000e+03  \n",
       "max            -7.388100e+01  3.790700e+04       2.003000e+03  "
      ]
     },
     "execution_count": 11,
     "metadata": {},
     "output_type": "execute_result"
    }
   ],
   "source": [
    "# descriptive statistics for numeric variables using the describe\n",
    "df.describe()"
   ]
  },
  {
   "cell_type": "markdown",
   "metadata": {},
   "source": [
    "### Assessing the dataset\n",
    "> - The data was assessed visually using microsoft excel using microsoft excel.\n",
    ">- There are 1,127,156 student information in the dataset with 17 coloumns.\n",
    "> - There are features in the dataset which will not be needed for this analysis, we will be dropping bike_share_for_all_trip, start time, end time columns bcause it is an extraneous column, also we have been give the duration of trips in seconds therefore, er will not be needing the starttime and endtime column.\n",
    "> - The dataset has null values, we will droping this null values to have a clean dataset.\n",
    "> -The data type of some columns has been captured wrongly, we will be correcting this error."
   ]
  },
  {
   "cell_type": "markdown",
   "metadata": {},
   "source": [
    "### Data Cleaning"
   ]
  },
  {
   "cell_type": "markdown",
   "metadata": {},
   "source": [
    "### Handling extraneous data.\n",
    "> In this section, we will handle the issue of extraneous columns."
   ]
  },
  {
   "cell_type": "code",
   "execution_count": 12,
   "metadata": {},
   "outputs": [
    {
     "data": {
      "text/html": [
       "<div>\n",
       "<style scoped>\n",
       "    .dataframe tbody tr th:only-of-type {\n",
       "        vertical-align: middle;\n",
       "    }\n",
       "\n",
       "    .dataframe tbody tr th {\n",
       "        vertical-align: top;\n",
       "    }\n",
       "\n",
       "    .dataframe thead th {\n",
       "        text-align: right;\n",
       "    }\n",
       "</style>\n",
       "<table border=\"1\" class=\"dataframe\">\n",
       "  <thead>\n",
       "    <tr style=\"text-align: right;\">\n",
       "      <th></th>\n",
       "      <th>city</th>\n",
       "      <th>duration_sec</th>\n",
       "      <th>start_station_id</th>\n",
       "      <th>start_station_name</th>\n",
       "      <th>start_station_latitude</th>\n",
       "      <th>start_station_longitude</th>\n",
       "      <th>end_station_id</th>\n",
       "      <th>end_station_name</th>\n",
       "      <th>end_station_latitude</th>\n",
       "      <th>end_station_longitude</th>\n",
       "      <th>bike_id</th>\n",
       "      <th>user_type</th>\n",
       "      <th>member_birth_year</th>\n",
       "      <th>member_gender</th>\n",
       "    </tr>\n",
       "  </thead>\n",
       "  <tbody>\n",
       "    <tr>\n",
       "      <th>0</th>\n",
       "      <td>San Francisco Bay area</td>\n",
       "      <td>52185</td>\n",
       "      <td>21.0</td>\n",
       "      <td>Montgomery St BART Station (Market St at 2nd St)</td>\n",
       "      <td>37.789625</td>\n",
       "      <td>-122.400811</td>\n",
       "      <td>13.0</td>\n",
       "      <td>Commercial St at Montgomery St</td>\n",
       "      <td>37.794231</td>\n",
       "      <td>-122.402923</td>\n",
       "      <td>4902</td>\n",
       "      <td>Customer</td>\n",
       "      <td>1984.0</td>\n",
       "      <td>Male</td>\n",
       "    </tr>\n",
       "    <tr>\n",
       "      <th>1</th>\n",
       "      <td>San Francisco Bay area</td>\n",
       "      <td>42521</td>\n",
       "      <td>23.0</td>\n",
       "      <td>The Embarcadero at Steuart St</td>\n",
       "      <td>37.791464</td>\n",
       "      <td>-122.391034</td>\n",
       "      <td>81.0</td>\n",
       "      <td>Berry St at 4th St</td>\n",
       "      <td>37.775880</td>\n",
       "      <td>-122.393170</td>\n",
       "      <td>2535</td>\n",
       "      <td>Customer</td>\n",
       "      <td>NaN</td>\n",
       "      <td>NaN</td>\n",
       "    </tr>\n",
       "    <tr>\n",
       "      <th>2</th>\n",
       "      <td>San Francisco Bay area</td>\n",
       "      <td>61854</td>\n",
       "      <td>86.0</td>\n",
       "      <td>Market St at Dolores St</td>\n",
       "      <td>37.769305</td>\n",
       "      <td>-122.426826</td>\n",
       "      <td>3.0</td>\n",
       "      <td>Powell St BART Station (Market St at 4th St)</td>\n",
       "      <td>37.786375</td>\n",
       "      <td>-122.404904</td>\n",
       "      <td>5905</td>\n",
       "      <td>Customer</td>\n",
       "      <td>1972.0</td>\n",
       "      <td>Male</td>\n",
       "    </tr>\n",
       "    <tr>\n",
       "      <th>3</th>\n",
       "      <td>San Francisco Bay area</td>\n",
       "      <td>36490</td>\n",
       "      <td>375.0</td>\n",
       "      <td>Grove St at Masonic Ave</td>\n",
       "      <td>37.774836</td>\n",
       "      <td>-122.446546</td>\n",
       "      <td>70.0</td>\n",
       "      <td>Central Ave at Fell St</td>\n",
       "      <td>37.773311</td>\n",
       "      <td>-122.444293</td>\n",
       "      <td>6638</td>\n",
       "      <td>Subscriber</td>\n",
       "      <td>1989.0</td>\n",
       "      <td>Other</td>\n",
       "    </tr>\n",
       "    <tr>\n",
       "      <th>4</th>\n",
       "      <td>San Francisco Bay area</td>\n",
       "      <td>1585</td>\n",
       "      <td>7.0</td>\n",
       "      <td>Frank H Ogawa Plaza</td>\n",
       "      <td>37.804562</td>\n",
       "      <td>-122.271738</td>\n",
       "      <td>222.0</td>\n",
       "      <td>10th Ave at E 15th St</td>\n",
       "      <td>37.792714</td>\n",
       "      <td>-122.248780</td>\n",
       "      <td>4898</td>\n",
       "      <td>Subscriber</td>\n",
       "      <td>1974.0</td>\n",
       "      <td>Male</td>\n",
       "    </tr>\n",
       "  </tbody>\n",
       "</table>\n",
       "</div>"
      ],
      "text/plain": [
       "                     city  duration_sec  start_station_id  \\\n",
       "0  San Francisco Bay area         52185              21.0   \n",
       "1  San Francisco Bay area         42521              23.0   \n",
       "2  San Francisco Bay area         61854              86.0   \n",
       "3  San Francisco Bay area         36490             375.0   \n",
       "4  San Francisco Bay area          1585               7.0   \n",
       "\n",
       "                                 start_station_name  start_station_latitude  \\\n",
       "0  Montgomery St BART Station (Market St at 2nd St)               37.789625   \n",
       "1                     The Embarcadero at Steuart St               37.791464   \n",
       "2                           Market St at Dolores St               37.769305   \n",
       "3                           Grove St at Masonic Ave               37.774836   \n",
       "4                               Frank H Ogawa Plaza               37.804562   \n",
       "\n",
       "   start_station_longitude  end_station_id  \\\n",
       "0              -122.400811            13.0   \n",
       "1              -122.391034            81.0   \n",
       "2              -122.426826             3.0   \n",
       "3              -122.446546            70.0   \n",
       "4              -122.271738           222.0   \n",
       "\n",
       "                               end_station_name  end_station_latitude  \\\n",
       "0                Commercial St at Montgomery St             37.794231   \n",
       "1                            Berry St at 4th St             37.775880   \n",
       "2  Powell St BART Station (Market St at 4th St)             37.786375   \n",
       "3                        Central Ave at Fell St             37.773311   \n",
       "4                         10th Ave at E 15th St             37.792714   \n",
       "\n",
       "   end_station_longitude  bike_id   user_type  member_birth_year member_gender  \n",
       "0            -122.402923     4902    Customer             1984.0          Male  \n",
       "1            -122.393170     2535    Customer                NaN           NaN  \n",
       "2            -122.404904     5905    Customer             1972.0          Male  \n",
       "3            -122.444293     6638  Subscriber             1989.0         Other  \n",
       "4            -122.248780     4898  Subscriber             1974.0          Male  "
      ]
     },
     "execution_count": 12,
     "metadata": {},
     "output_type": "execute_result"
    }
   ],
   "source": [
    "#Droping the extraneouns coloums (AppointmentID)\n",
    "df.drop(['start_time'], axis=1, inplace=True)\n",
    "df.drop(['end_time'], axis=1, inplace=True)\n",
    "df.drop(['bike_share_for_all_trip'], axis=1, inplace=True)\n",
    "# confriming drop\n",
    "df.head()"
   ]
  },
  {
   "cell_type": "markdown",
   "metadata": {},
   "source": [
    "### Handling Data type errors\n",
    "> In this section, we will handle the issue of incorrect datatype. The columns of start and end station ID has been captured wrongly as floats, the bike id has been captured as integers but are suppose to be objects, members birth year is expected to be captured as strings. "
   ]
  },
  {
   "cell_type": "code",
   "execution_count": 13,
   "metadata": {
    "scrolled": true
   },
   "outputs": [
    {
     "data": {
      "text/plain": [
       "city                        object\n",
       "duration_sec                 int64\n",
       "start_station_id           float64\n",
       "start_station_name          object\n",
       "start_station_latitude     float64\n",
       "start_station_longitude    float64\n",
       "end_station_id             float64\n",
       "end_station_name            object\n",
       "end_station_latitude       float64\n",
       "end_station_longitude      float64\n",
       "bike_id                      int64\n",
       "user_type                   object\n",
       "member_birth_year          float64\n",
       "member_gender               object\n",
       "dtype: object"
      ]
     },
     "execution_count": 13,
     "metadata": {},
     "output_type": "execute_result"
    }
   ],
   "source": [
    "df.dtypes"
   ]
  },
  {
   "cell_type": "code",
   "execution_count": 14,
   "metadata": {},
   "outputs": [],
   "source": [
    "# changing data type using as type fuction\n",
    "df['start_station_id'] = df['start_station_id'].astype(str)\n",
    "df['end_station_id'] = df['end_station_id'].astype(str)\n",
    "df['bike_id'] = df['bike_id'].astype(str)\n",
    "df['member_birth_year'] = df['member_birth_year'].astype(str)"
   ]
  },
  {
   "cell_type": "code",
   "execution_count": 15,
   "metadata": {},
   "outputs": [
    {
     "data": {
      "text/html": [
       "<div>\n",
       "<style scoped>\n",
       "    .dataframe tbody tr th:only-of-type {\n",
       "        vertical-align: middle;\n",
       "    }\n",
       "\n",
       "    .dataframe tbody tr th {\n",
       "        vertical-align: top;\n",
       "    }\n",
       "\n",
       "    .dataframe thead th {\n",
       "        text-align: right;\n",
       "    }\n",
       "</style>\n",
       "<table border=\"1\" class=\"dataframe\">\n",
       "  <thead>\n",
       "    <tr style=\"text-align: right;\">\n",
       "      <th></th>\n",
       "      <th>city</th>\n",
       "      <th>duration_sec</th>\n",
       "      <th>start_station_id</th>\n",
       "      <th>start_station_name</th>\n",
       "      <th>start_station_latitude</th>\n",
       "      <th>start_station_longitude</th>\n",
       "      <th>end_station_id</th>\n",
       "      <th>end_station_name</th>\n",
       "      <th>end_station_latitude</th>\n",
       "      <th>end_station_longitude</th>\n",
       "      <th>bike_id</th>\n",
       "      <th>user_type</th>\n",
       "      <th>member_birth_year</th>\n",
       "      <th>member_gender</th>\n",
       "    </tr>\n",
       "  </thead>\n",
       "  <tbody>\n",
       "    <tr>\n",
       "      <th>0</th>\n",
       "      <td>San Francisco Bay area</td>\n",
       "      <td>52185</td>\n",
       "      <td>21</td>\n",
       "      <td>Montgomery St BART Station (Market St at 2nd St)</td>\n",
       "      <td>37.789625</td>\n",
       "      <td>-122.400811</td>\n",
       "      <td>13</td>\n",
       "      <td>Commercial St at Montgomery St</td>\n",
       "      <td>37.794231</td>\n",
       "      <td>-122.402923</td>\n",
       "      <td>4902</td>\n",
       "      <td>Customer</td>\n",
       "      <td>1984</td>\n",
       "      <td>Male</td>\n",
       "    </tr>\n",
       "    <tr>\n",
       "      <th>1</th>\n",
       "      <td>San Francisco Bay area</td>\n",
       "      <td>42521</td>\n",
       "      <td>23</td>\n",
       "      <td>The Embarcadero at Steuart St</td>\n",
       "      <td>37.791464</td>\n",
       "      <td>-122.391034</td>\n",
       "      <td>81</td>\n",
       "      <td>Berry St at 4th St</td>\n",
       "      <td>37.775880</td>\n",
       "      <td>-122.393170</td>\n",
       "      <td>2535</td>\n",
       "      <td>Customer</td>\n",
       "      <td>nan</td>\n",
       "      <td>NaN</td>\n",
       "    </tr>\n",
       "    <tr>\n",
       "      <th>2</th>\n",
       "      <td>San Francisco Bay area</td>\n",
       "      <td>61854</td>\n",
       "      <td>86</td>\n",
       "      <td>Market St at Dolores St</td>\n",
       "      <td>37.769305</td>\n",
       "      <td>-122.426826</td>\n",
       "      <td>3</td>\n",
       "      <td>Powell St BART Station (Market St at 4th St)</td>\n",
       "      <td>37.786375</td>\n",
       "      <td>-122.404904</td>\n",
       "      <td>5905</td>\n",
       "      <td>Customer</td>\n",
       "      <td>1972</td>\n",
       "      <td>Male</td>\n",
       "    </tr>\n",
       "    <tr>\n",
       "      <th>3</th>\n",
       "      <td>San Francisco Bay area</td>\n",
       "      <td>36490</td>\n",
       "      <td>375</td>\n",
       "      <td>Grove St at Masonic Ave</td>\n",
       "      <td>37.774836</td>\n",
       "      <td>-122.446546</td>\n",
       "      <td>70</td>\n",
       "      <td>Central Ave at Fell St</td>\n",
       "      <td>37.773311</td>\n",
       "      <td>-122.444293</td>\n",
       "      <td>6638</td>\n",
       "      <td>Subscriber</td>\n",
       "      <td>1989</td>\n",
       "      <td>Other</td>\n",
       "    </tr>\n",
       "    <tr>\n",
       "      <th>4</th>\n",
       "      <td>San Francisco Bay area</td>\n",
       "      <td>1585</td>\n",
       "      <td>7</td>\n",
       "      <td>Frank H Ogawa Plaza</td>\n",
       "      <td>37.804562</td>\n",
       "      <td>-122.271738</td>\n",
       "      <td>222</td>\n",
       "      <td>10th Ave at E 15th St</td>\n",
       "      <td>37.792714</td>\n",
       "      <td>-122.248780</td>\n",
       "      <td>4898</td>\n",
       "      <td>Subscriber</td>\n",
       "      <td>1974</td>\n",
       "      <td>Male</td>\n",
       "    </tr>\n",
       "  </tbody>\n",
       "</table>\n",
       "</div>"
      ],
      "text/plain": [
       "                     city  duration_sec start_station_id  \\\n",
       "0  San Francisco Bay area         52185               21   \n",
       "1  San Francisco Bay area         42521               23   \n",
       "2  San Francisco Bay area         61854               86   \n",
       "3  San Francisco Bay area         36490              375   \n",
       "4  San Francisco Bay area          1585                7   \n",
       "\n",
       "                                 start_station_name  start_station_latitude  \\\n",
       "0  Montgomery St BART Station (Market St at 2nd St)               37.789625   \n",
       "1                     The Embarcadero at Steuart St               37.791464   \n",
       "2                           Market St at Dolores St               37.769305   \n",
       "3                           Grove St at Masonic Ave               37.774836   \n",
       "4                               Frank H Ogawa Plaza               37.804562   \n",
       "\n",
       "   start_station_longitude end_station_id  \\\n",
       "0              -122.400811             13   \n",
       "1              -122.391034             81   \n",
       "2              -122.426826              3   \n",
       "3              -122.446546             70   \n",
       "4              -122.271738            222   \n",
       "\n",
       "                               end_station_name  end_station_latitude  \\\n",
       "0                Commercial St at Montgomery St             37.794231   \n",
       "1                            Berry St at 4th St             37.775880   \n",
       "2  Powell St BART Station (Market St at 4th St)             37.786375   \n",
       "3                        Central Ave at Fell St             37.773311   \n",
       "4                         10th Ave at E 15th St             37.792714   \n",
       "\n",
       "   end_station_longitude bike_id   user_type member_birth_year member_gender  \n",
       "0            -122.402923    4902    Customer              1984          Male  \n",
       "1            -122.393170    2535    Customer               nan           NaN  \n",
       "2            -122.404904    5905    Customer              1972          Male  \n",
       "3            -122.444293    6638  Subscriber              1989         Other  \n",
       "4            -122.248780    4898  Subscriber              1974          Male  "
      ]
     },
     "execution_count": 15,
     "metadata": {},
     "output_type": "execute_result"
    }
   ],
   "source": [
    "# spilting the (start station id , end station id, and member birth year columns)\n",
    "# columns to split by \".\"\n",
    "split_columns = ['start_station_id', 'end_station_id','member_birth_year']\n",
    "\n",
    "# apply split function to neccessary column of the dataframe\n",
    "for c in split_columns:\n",
    "    df[c] = df[c].apply(lambda x: x.split(\".\")[0])\n",
    "# confriming split\n",
    "df.head()"
   ]
  },
  {
   "cell_type": "code",
   "execution_count": 16,
   "metadata": {
    "scrolled": true
   },
   "outputs": [
    {
     "data": {
      "text/plain": [
       "city                        object\n",
       "duration_sec                 int64\n",
       "start_station_id            object\n",
       "start_station_name          object\n",
       "start_station_latitude     float64\n",
       "start_station_longitude    float64\n",
       "end_station_id              object\n",
       "end_station_name            object\n",
       "end_station_latitude       float64\n",
       "end_station_longitude      float64\n",
       "bike_id                     object\n",
       "user_type                   object\n",
       "member_birth_year           object\n",
       "member_gender               object\n",
       "dtype: object"
      ]
     },
     "execution_count": 16,
     "metadata": {},
     "output_type": "execute_result"
    }
   ],
   "source": [
    "df.dtypes"
   ]
  },
  {
   "cell_type": "code",
   "execution_count": 17,
   "metadata": {
    "scrolled": true
   },
   "outputs": [
    {
     "data": {
      "text/html": [
       "<div>\n",
       "<style scoped>\n",
       "    .dataframe tbody tr th:only-of-type {\n",
       "        vertical-align: middle;\n",
       "    }\n",
       "\n",
       "    .dataframe tbody tr th {\n",
       "        vertical-align: top;\n",
       "    }\n",
       "\n",
       "    .dataframe thead th {\n",
       "        text-align: right;\n",
       "    }\n",
       "</style>\n",
       "<table border=\"1\" class=\"dataframe\">\n",
       "  <thead>\n",
       "    <tr style=\"text-align: right;\">\n",
       "      <th></th>\n",
       "      <th>city</th>\n",
       "      <th>duration_sec</th>\n",
       "      <th>start_station_id</th>\n",
       "      <th>start_station_name</th>\n",
       "      <th>start_station_latitude</th>\n",
       "      <th>start_station_longitude</th>\n",
       "      <th>end_station_id</th>\n",
       "      <th>end_station_name</th>\n",
       "      <th>end_station_latitude</th>\n",
       "      <th>end_station_longitude</th>\n",
       "      <th>bike_id</th>\n",
       "      <th>user_type</th>\n",
       "      <th>member_birth_year</th>\n",
       "      <th>member_gender</th>\n",
       "    </tr>\n",
       "  </thead>\n",
       "  <tbody>\n",
       "    <tr>\n",
       "      <th>0</th>\n",
       "      <td>San Francisco Bay area</td>\n",
       "      <td>52185</td>\n",
       "      <td>21</td>\n",
       "      <td>Montgomery St BART Station (Market St at 2nd St)</td>\n",
       "      <td>37.789625</td>\n",
       "      <td>-122.400811</td>\n",
       "      <td>13</td>\n",
       "      <td>Commercial St at Montgomery St</td>\n",
       "      <td>37.794231</td>\n",
       "      <td>-122.402923</td>\n",
       "      <td>4902</td>\n",
       "      <td>Customer</td>\n",
       "      <td>1984</td>\n",
       "      <td>Male</td>\n",
       "    </tr>\n",
       "    <tr>\n",
       "      <th>2</th>\n",
       "      <td>San Francisco Bay area</td>\n",
       "      <td>61854</td>\n",
       "      <td>86</td>\n",
       "      <td>Market St at Dolores St</td>\n",
       "      <td>37.769305</td>\n",
       "      <td>-122.426826</td>\n",
       "      <td>3</td>\n",
       "      <td>Powell St BART Station (Market St at 4th St)</td>\n",
       "      <td>37.786375</td>\n",
       "      <td>-122.404904</td>\n",
       "      <td>5905</td>\n",
       "      <td>Customer</td>\n",
       "      <td>1972</td>\n",
       "      <td>Male</td>\n",
       "    </tr>\n",
       "    <tr>\n",
       "      <th>3</th>\n",
       "      <td>San Francisco Bay area</td>\n",
       "      <td>36490</td>\n",
       "      <td>375</td>\n",
       "      <td>Grove St at Masonic Ave</td>\n",
       "      <td>37.774836</td>\n",
       "      <td>-122.446546</td>\n",
       "      <td>70</td>\n",
       "      <td>Central Ave at Fell St</td>\n",
       "      <td>37.773311</td>\n",
       "      <td>-122.444293</td>\n",
       "      <td>6638</td>\n",
       "      <td>Subscriber</td>\n",
       "      <td>1989</td>\n",
       "      <td>Other</td>\n",
       "    </tr>\n",
       "    <tr>\n",
       "      <th>4</th>\n",
       "      <td>San Francisco Bay area</td>\n",
       "      <td>1585</td>\n",
       "      <td>7</td>\n",
       "      <td>Frank H Ogawa Plaza</td>\n",
       "      <td>37.804562</td>\n",
       "      <td>-122.271738</td>\n",
       "      <td>222</td>\n",
       "      <td>10th Ave at E 15th St</td>\n",
       "      <td>37.792714</td>\n",
       "      <td>-122.248780</td>\n",
       "      <td>4898</td>\n",
       "      <td>Subscriber</td>\n",
       "      <td>1974</td>\n",
       "      <td>Male</td>\n",
       "    </tr>\n",
       "    <tr>\n",
       "      <th>5</th>\n",
       "      <td>San Francisco Bay area</td>\n",
       "      <td>1793</td>\n",
       "      <td>93</td>\n",
       "      <td>4th St at Mission Bay Blvd S</td>\n",
       "      <td>37.770407</td>\n",
       "      <td>-122.391198</td>\n",
       "      <td>323</td>\n",
       "      <td>Broadway at Kearny</td>\n",
       "      <td>37.798014</td>\n",
       "      <td>-122.405950</td>\n",
       "      <td>5200</td>\n",
       "      <td>Subscriber</td>\n",
       "      <td>1959</td>\n",
       "      <td>Male</td>\n",
       "    </tr>\n",
       "  </tbody>\n",
       "</table>\n",
       "</div>"
      ],
      "text/plain": [
       "                     city  duration_sec start_station_id  \\\n",
       "0  San Francisco Bay area         52185               21   \n",
       "2  San Francisco Bay area         61854               86   \n",
       "3  San Francisco Bay area         36490              375   \n",
       "4  San Francisco Bay area          1585                7   \n",
       "5  San Francisco Bay area          1793               93   \n",
       "\n",
       "                                 start_station_name  start_station_latitude  \\\n",
       "0  Montgomery St BART Station (Market St at 2nd St)               37.789625   \n",
       "2                           Market St at Dolores St               37.769305   \n",
       "3                           Grove St at Masonic Ave               37.774836   \n",
       "4                               Frank H Ogawa Plaza               37.804562   \n",
       "5                      4th St at Mission Bay Blvd S               37.770407   \n",
       "\n",
       "   start_station_longitude end_station_id  \\\n",
       "0              -122.400811             13   \n",
       "2              -122.426826              3   \n",
       "3              -122.446546             70   \n",
       "4              -122.271738            222   \n",
       "5              -122.391198            323   \n",
       "\n",
       "                               end_station_name  end_station_latitude  \\\n",
       "0                Commercial St at Montgomery St             37.794231   \n",
       "2  Powell St BART Station (Market St at 4th St)             37.786375   \n",
       "3                        Central Ave at Fell St             37.773311   \n",
       "4                         10th Ave at E 15th St             37.792714   \n",
       "5                            Broadway at Kearny             37.798014   \n",
       "\n",
       "   end_station_longitude bike_id   user_type member_birth_year member_gender  \n",
       "0            -122.402923    4902    Customer              1984          Male  \n",
       "2            -122.404904    5905    Customer              1972          Male  \n",
       "3            -122.444293    6638  Subscriber              1989         Other  \n",
       "4            -122.248780    4898  Subscriber              1974          Male  \n",
       "5            -122.405950    5200  Subscriber              1959          Male  "
      ]
     },
     "execution_count": 17,
     "metadata": {},
     "output_type": "execute_result"
    }
   ],
   "source": [
    "# dropping the null values\n",
    "df = df.dropna()\n",
    "#confriming drop\n",
    "df.head()"
   ]
  },
  {
   "cell_type": "code",
   "execution_count": 18,
   "metadata": {},
   "outputs": [
    {
     "name": "stdout",
     "output_type": "stream",
     "text": [
      "17\n"
     ]
    }
   ],
   "source": [
    "#checking for duplicates in the dataset\n",
    "print(df.duplicated().sum())"
   ]
  },
  {
   "cell_type": "code",
   "execution_count": 19,
   "metadata": {},
   "outputs": [],
   "source": [
    "# we have 17 duplicates in the dataset and we will be dropin these duplicates\n",
    "df.drop_duplicates(inplace = True)"
   ]
  },
  {
   "cell_type": "code",
   "execution_count": 20,
   "metadata": {
    "scrolled": true
   },
   "outputs": [
    {
     "name": "stdout",
     "output_type": "stream",
     "text": [
      "(1118670, 14)\n",
      "0\n"
     ]
    },
    {
     "data": {
      "text/plain": [
       "city                       0\n",
       "duration_sec               0\n",
       "start_station_id           0\n",
       "start_station_name         0\n",
       "start_station_latitude     0\n",
       "start_station_longitude    0\n",
       "end_station_id             0\n",
       "end_station_name           0\n",
       "end_station_latitude       0\n",
       "end_station_longitude      0\n",
       "bike_id                    0\n",
       "user_type                  0\n",
       "member_birth_year          0\n",
       "member_gender              0\n",
       "dtype: int64"
      ]
     },
     "execution_count": 20,
     "metadata": {},
     "output_type": "execute_result"
    }
   ],
   "source": [
    "print(df.shape)\n",
    "#checking for duplicates in the dataset\n",
    "print(df.duplicated().sum())\n",
    "df.isnull().sum()"
   ]
  },
  {
   "cell_type": "markdown",
   "metadata": {},
   "source": [
    "### What is the structure of your dataset?\n",
    "\n",
    "> Data wrangling and cleaning was been performed on the dataset to prepare it for visualization, after cleaning the dataset, there are 1,118,670 user information in the dataset with 14 coloumns in the dataset. Most variables are numeric in nature and variable member_gender is categorical.\n",
    "\n",
    "### What is/are the main feature(s) of interest in your dataset?\n",
    "\n",
    "> I am most interested in finding the features that influences a the average duration of trips taken per second. \n",
    "\n",
    "### What features in the dataset do you think will help support your investigation into your feature(s) of interest?\n",
    "\n",
    "> I expect user_type to have the most effect on the duration of trips taken. I also think the member gender, user birth year and city will have an effect."
   ]
  },
  {
   "cell_type": "markdown",
   "metadata": {},
   "source": [
    "## Univariate Exploration\n",
    "\n",
    "> In this section, I will investigate distributions of individual variables of interest and more. If I see unusual points or outliers, take a deeper look to clean things up and prepare to look at relationships between variables."
   ]
  },
  {
   "cell_type": "code",
   "execution_count": 21,
   "metadata": {},
   "outputs": [],
   "source": [
    "# declaring the function for visualization\n",
    "def label(x,y,z):\n",
    "    plt.title(x)\n",
    "    plt.xlabel(y)\n",
    "    plt.ylabel(z)\n",
    "    plt.show()"
   ]
  },
  {
   "cell_type": "code",
   "execution_count": 22,
   "metadata": {},
   "outputs": [
    {
     "data": {
      "image/png": "[encoded data removed]",
      "text/plain": [
       "<Figure size 432x288 with 1 Axes>"
      ]
     },
     "metadata": {
      "needs_background": "light"
     },
     "output_type": "display_data"
    }
   ],
   "source": [
    "df.hist('duration_sec')\n",
    "plt.show()"
   ]
  },
  {
   "cell_type": "code",
   "execution_count": 23,
   "metadata": {
    "scrolled": true
   },
   "outputs": [
    {
     "data": {
      "image/png": "[encoded data removed]",
      "text/plain": [
       "<Figure size 576x360 with 1 Axes>"
      ]
     },
     "metadata": {
      "needs_background": "light"
     },
     "output_type": "display_data"
    }
   ],
   "source": [
    "#viewing the distribution for duration per seconds\n",
    "log_binsize = 0.1\n",
    "bins = 10 ** np.arange(2.4, np.log10(df['duration_sec'].max())+log_binsize, log_binsize)\n",
    "\n",
    "plt.figure(figsize=[8, 5])\n",
    "plt.hist(data = df, x = 'duration_sec', bins = bins)\n",
    "plt.title('Distribution of Duration Per Seconds')\n",
    "plt.xscale('log')\n",
    "plt.xticks([200, 500, 1e3, 2e3, 3e3, 5e3, 1e4, 2e4], [\"250\", '500', '1k', '2k', '3k', '5k', '10k', '20k'])\n",
    "plt.xlabel('Duration (/s)')\n",
    "plt.show()"
   ]
  },
  {
   "cell_type": "markdown",
   "metadata": {},
   "source": [
    "## Observation\n",
    "> Duration has a single bar when plotted normally. \n",
    "> When ploted with a log scale, we see a non-uniform distribution of data points in different bins.\n",
    "<br> Overall, a generally bimodal distribution is observed (one with two peaks or humps) between 500 to 1000. The direct adjacency of the bars in the histogram, in contrast to the separated bars in a bar chart, emphasizes the fact that the data takes on a continuous range of values. When a data value is on a bin edge, it is counted in the bin to its right. The exception is the rightmost bin edge, which places data values equal to the uppermost limit into the right-most bin (to the upper limit's left).\n"
   ]
  },
  {
   "cell_type": "code",
   "execution_count": 24,
   "metadata": {},
   "outputs": [
    {
     "data": {
      "text/plain": [
       "1118670"
      ]
     },
     "execution_count": 24,
     "metadata": {},
     "output_type": "execute_result"
    }
   ],
   "source": [
    "#getting the total count of users who use the biking system\n",
    "total= df.bike_id.count()\n",
    "total"
   ]
  },
  {
   "cell_type": "markdown",
   "metadata": {},
   "source": [
    "### Question\n",
    "> What proportion of users of different user type?"
   ]
  },
  {
   "cell_type": "code",
   "execution_count": 25,
   "metadata": {
    "scrolled": true
   },
   "outputs": [
    {
     "data": {
      "image/png": "[encoded data removed]",
      "text/plain": [
       "<Figure size 432x288 with 1 Axes>"
      ]
     },
     "metadata": {
      "needs_background": "light"
     },
     "output_type": "display_data"
    }
   ],
   "source": [
    "# Using groupby to get the count of user type\n",
    "user_type = df.groupby('user_type').user_type.count().sort_values(ascending=False)\n",
    "user_type\n",
    "# Caculating the proportion of users by user type \n",
    "proportion = user_type/total\n",
    "proportion\n",
    "#visualizing the chart\n",
    "proportion.plot(kind='bar')\n",
    "plt.xticks(rotation = 360)\n",
    "label('Proportion of Users with Respect to User Type', \"User Type\", \"Proportion\")"
   ]
  },
  {
   "cell_type": "markdown",
   "metadata": {},
   "source": [
    "### Observation\n",
    "> The proportion of users who are subscribers is relatively higher than the day to day customers.\n",
    "<br> This infers the biking system has more of subscribers than customers."
   ]
  },
  {
   "cell_type": "markdown",
   "metadata": {},
   "source": [
    "### Question\n",
    "> What is the distribution of users gender in the biking system?"
   ]
  },
  {
   "cell_type": "code",
   "execution_count": 26,
   "metadata": {},
   "outputs": [
    {
     "data": {
      "image/png": "[encoded data removed]",
      "text/plain": [
       "<Figure size 432x288 with 1 Axes>"
      ]
     },
     "metadata": {
      "needs_background": "light"
     },
     "output_type": "display_data"
    }
   ],
   "source": [
    "# Using groupby to get the count of users by gender\n",
    "Gender = df.groupby('member_gender').member_gender.count().sort_values(ascending=False)\n",
    "Gender\n",
    "#getting the percentage of customers gender across the system\n",
    "Gender_percentage = Gender/total*100\n",
    "Gender_percentage\n",
    "#Visualizing the proportion\n",
    "Gender_percentage.plot(kind='bar')\n",
    "plt.xticks(rotation = 360)\n",
    "label('The Percentage of User Population by Gender', 'Gender', \"Percentage\");"
   ]
  },
  {
   "cell_type": "markdown",
   "metadata": {
    "scrolled": true
   },
   "source": [
    "## Observation\n",
    "> The percentage of male users are higher than that of female and others. The customer group others, shows  the percentage of customers and scubscribers that their gender could not be determined.\n",
    "> The higher percentage of males can be used to infer that men use the biking system more than any other gender.\n"
   ]
  },
  {
   "cell_type": "markdown",
   "metadata": {},
   "source": [
    "### Question\n",
    "> What age year uses the bikes the most?"
   ]
  },
  {
   "cell_type": "markdown",
   "metadata": {},
   "source": [
    "## Visualization"
   ]
  },
  {
   "cell_type": "code",
   "execution_count": 27,
   "metadata": {
    "scrolled": false
   },
   "outputs": [
    {
     "data": {
      "image/png": "[encoded data removed]",
      "text/plain": [
       "<Figure size 1800x720 with 1 Axes>"
      ]
     },
     "metadata": {
      "needs_background": "light"
     },
     "output_type": "display_data"
    }
   ],
   "source": [
    "# Using groupby to get the count of customers by year\n",
    "birth_year = df.groupby('member_birth_year').member_birth_year.count().sort_index(ascending=True)\n",
    "birth_year\n",
    "# visualizing the count of customer by year\n",
    "birth_year.plot(kind='bar',figsize = (25,10))\n",
    "label('The frequency of User by year', 'Birth Year', \"Frequency\");"
   ]
  },
  {
   "cell_type": "code",
   "execution_count": 28,
   "metadata": {},
   "outputs": [
    {
     "data": {
      "image/png": "[encoded data removed]",
      "text/plain": [
       "<Figure size 1800x720 with 1 Axes>"
      ]
     },
     "metadata": {
      "needs_background": "light"
     },
     "output_type": "display_data"
    }
   ],
   "source": [
    "#droping years below 1936\n",
    "df.drop(df[df.member_birth_year < \"1936\"].index, inplace=True)\n",
    "# Using groupby to get the count of customers by year\n",
    "birth_year = df.groupby('member_birth_year').member_birth_year.count().sort_index(ascending=True)\n",
    "birth_year\n",
    "# visualizing the count of customer by year\n",
    "birth_year.plot(kind='bar',figsize = (25,10))\n",
    "label('The frequency of Users by Birth Year', 'Birth Year', \"Frequency\");"
   ]
  },
  {
   "cell_type": "markdown",
   "metadata": {},
   "source": [
    "## Observation\n",
    "> The year 1969 has the most users of the biking system, however, for saftey, we will be removed data from 1878-1935 to have a clear data"
   ]
  },
  {
   "cell_type": "markdown",
   "metadata": {},
   "source": [
    "## Question?\n",
    "> What city has the highest population of users?"
   ]
  },
  {
   "cell_type": "code",
   "execution_count": 29,
   "metadata": {
    "scrolled": true
   },
   "outputs": [
    {
     "data": {
      "image/png": "[encoded data removed]",
      "text/plain": [
       "<Figure size 432x288 with 1 Axes>"
      ]
     },
     "metadata": {
      "needs_background": "light"
     },
     "output_type": "display_data"
    }
   ],
   "source": [
    "# Using groupby to get the count of users by cities\n",
    "city = df.groupby('city').city.count().sort_values(ascending=False)\n",
    "city\n",
    "#Visualizing the proportion\n",
    "city.plot(kind='bar')\n",
    "plt.xticks(rotation = 360)\n",
    "label('The Frequency of Users Population by City', 'City', \"Frequency\");"
   ]
  },
  {
   "cell_type": "markdown",
   "metadata": {},
   "source": [
    "## Observation\n",
    "> There are more users from newyork city in the dataset."
   ]
  },
  {
   "cell_type": "markdown",
   "metadata": {},
   "source": [
    "### Discuss the distribution(s) of your variable(s) of interest. Were there any unusual points? Did you need to perform any transformations?\n",
    "\n",
    "> - Newyork city has more users in the system than San Fransico Bay Area. \n",
    "> - It can be inferred that the older generation in the dataset barely use the biking system as they is little to no population of users in that year, also we have more users in the middle age category from year (1969-1994).\n",
    "> - We generally have more subscribers than customers in the dataset.\n",
    ">-  we have more of the male gender than the female and other gender in our dataset.\n",
    "\n",
    "### Of the features you investigated, were there any unusual distributions? Did you perform any operations on the data to tidy, adjust, or change the form of the data? If so, why did you do this?\n",
    "\n",
    "> The bin and scale of the distribution for duration were adjusted to a log scale to give a befitting histogram to the duration per second data. \n",
    "> <br>For saftey, we removed data points in the year category that did not have value for users."
   ]
  },
  {
   "cell_type": "markdown",
   "metadata": {},
   "source": [
    "## Bivariate Exploration\n",
    "\n",
    "> In this section, investigate relationships between pairs of variables in your data and across my features of interest"
   ]
  },
  {
   "cell_type": "markdown",
   "metadata": {
    "scrolled": true
   },
   "source": [
    "## Question\n",
    ">What is the relationship between user type and gender?"
   ]
  },
  {
   "cell_type": "code",
   "execution_count": 30,
   "metadata": {
    "scrolled": true
   },
   "outputs": [
    {
     "data": {
      "image/png": "[encoded data removed]",
      "text/plain": [
       "<Figure size 432x288 with 1 Axes>"
      ]
     },
     "metadata": {
      "needs_background": "light"
     },
     "output_type": "display_data"
    }
   ],
   "source": [
    "# Use group_by() and size() to get the number of users and each combination of the two variable levels as a pandas Series\n",
    "user_gender = df.groupby(['user_type', 'member_gender']).size()\n",
    "user_gender\n",
    "# Use Series.reset_index() to convert a series into a dataframe object\n",
    "user_gender = user_gender.reset_index(name = 'count')\n",
    "user_gender\n",
    "# Use DataFrame.pivot() to rearrange the data, to have country on rows\n",
    "user_gender = user_gender.pivot(index = 'user_type', columns = 'member_gender', values = 'count')\n",
    "user_gender\n",
    "sb.countplot(data = df, hue = 'user_type', x = 'member_gender')\n",
    "label('Classification of User Type by Gender', 'Gender', \"Frequency\");"
   ]
  },
  {
   "cell_type": "markdown",
   "metadata": {},
   "source": [
    "## Observation\n",
    "> The data collected has more of the male population, therefore it can be inferred that the there is a bais in the gender. However, we see that we have more subscribers in the male gender followed by female gender then the others."
   ]
  },
  {
   "cell_type": "markdown",
   "metadata": {},
   "source": [
    "## Question\n",
    ">What is the relationship between users and city?"
   ]
  },
  {
   "cell_type": "code",
   "execution_count": 31,
   "metadata": {},
   "outputs": [
    {
     "data": {
      "image/png": "[encoded data removed]",
      "text/plain": [
       "<Figure size 432x288 with 1 Axes>"
      ]
     },
     "metadata": {
      "needs_background": "light"
     },
     "output_type": "display_data"
    }
   ],
   "source": [
    "# Use group_by() and size() to get the number of users and each combination of the two variable levels as a pandas Series\n",
    "user_city = df.groupby(['user_type', 'city']).size()\n",
    "user_city\n",
    "# Use Series.reset_index() to convert a series into a dataframe object\n",
    "user_city = user_city.reset_index(name = 'count')\n",
    "user_city\n",
    "# Use DataFrame.pivot() to rearrange the data, to have country on rows\n",
    "user_city = user_city.pivot(index = 'user_type', columns = 'city', values = 'count')\n",
    "user_city\n",
    "sb.countplot(data = df, hue = 'user_type', x = 'city')\n",
    "label('Classification of User Type by City', 'City', \"Frequency\");"
   ]
  },
  {
   "cell_type": "markdown",
   "metadata": {},
   "source": [
    "## Observation\n",
    "> Interestingly, although the population of users in the san franciso bay area is lesser than new york city, both cities have more subscribers than customers in the user type category."
   ]
  },
  {
   "cell_type": "markdown",
   "metadata": {},
   "source": [
    "## Question\n",
    "> What is the frequency of bike users by Gender and city?"
   ]
  },
  {
   "cell_type": "code",
   "execution_count": 32,
   "metadata": {},
   "outputs": [
    {
     "data": {
      "image/png": "[encoded data removed]",
      "text/plain": [
       "<Figure size 432x288 with 1 Axes>"
      ]
     },
     "metadata": {
      "needs_background": "light"
     },
     "output_type": "display_data"
    }
   ],
   "source": [
    "sb.countplot(data = df, x = 'member_gender', hue = 'city')\n",
    "label('Frequency of bike users by Gender and  City', 'Gender', \"Frequency\");"
   ]
  },
  {
   "cell_type": "markdown",
   "metadata": {},
   "source": [
    "## Observation\n",
    "> The plot above shows the dominace of the male gender acrosss both cities."
   ]
  },
  {
   "cell_type": "markdown",
   "metadata": {},
   "source": [
    "### Question\n",
    "> What is the relationship between user type and average duration per seconds"
   ]
  },
  {
   "cell_type": "code",
   "execution_count": 33,
   "metadata": {
    "scrolled": false
   },
   "outputs": [
    {
     "data": {
      "image/png": "[encoded data removed]",
      "text/plain": [
       "<Figure size 432x288 with 1 Axes>"
      ]
     },
     "metadata": {
      "needs_background": "light"
     },
     "output_type": "display_data"
    }
   ],
   "source": [
    "# Using group by to get the average of duration per seconds by user type\n",
    "user_duration = df.groupby('user_type').duration_sec.mean().sort_values(ascending=False)\n",
    "user_duration\n",
    "# vizualization the relationship\n",
    "user_duration.plot(kind='bar')\n",
    "plt.xticks(rotation = 360)\n",
    "label('Relationship between User Type and Duration of Ride Per Second',\"User Type\", \"Duration (/s)\")\n",
    "plt.show();"
   ]
  },
  {
   "cell_type": "markdown",
   "metadata": {},
   "source": [
    "## Observation\n",
    "> The plot above shows that on a average the user type that cycles the longest is the customer category. The business should look at ways to make these customer a subscriber. "
   ]
  },
  {
   "cell_type": "markdown",
   "metadata": {},
   "source": [
    "## Question\n",
    ">What is the relationship between city and duration?"
   ]
  },
  {
   "cell_type": "code",
   "execution_count": 34,
   "metadata": {},
   "outputs": [
    {
     "data": {
      "image/png": "[encoded data removed]",
      "text/plain": [
       "<Figure size 432x288 with 1 Axes>"
      ]
     },
     "metadata": {
      "needs_background": "light"
     },
     "output_type": "display_data"
    }
   ],
   "source": [
    "# Using group by to get the average of duration per seconds by city.\n",
    "city_duration = df.groupby('city').duration_sec.mean().sort_values(ascending=False)\n",
    "city_duration\n",
    "# vizualization the rekationship\n",
    "city_duration.plot(kind='bar')\n",
    "plt.xticks(rotation = 360)\n",
    "label('Relationship between City and Duration of Ride Per Second',\"City\", \"Duration (/s)\")\n",
    "plt.show();"
   ]
  },
  {
   "cell_type": "markdown",
   "metadata": {},
   "source": [
    "## Observation\n",
    "> The chart above shows that bike users from New York City tends to spend more time on rides than users in the san fransico bay area. This could be as a result of the city activities that go on in NY. This could help the business decide where to channel incoming investment which would be new york city."
   ]
  },
  {
   "cell_type": "markdown",
   "metadata": {},
   "source": [
    "## Question\n",
    ">What is the relationship between gender and duration?"
   ]
  },
  {
   "cell_type": "code",
   "execution_count": 35,
   "metadata": {},
   "outputs": [
    {
     "data": {
      "image/png": "[encoded data removed]",
      "text/plain": [
       "<Figure size 432x288 with 1 Axes>"
      ]
     },
     "metadata": {
      "needs_background": "light"
     },
     "output_type": "display_data"
    }
   ],
   "source": [
    "# Using group by to get the average of duration per seconds by gender.\n",
    "gender_duration = df.groupby('member_gender').duration_sec.mean().sort_values(ascending=False)\n",
    "gender_duration\n",
    "# vizualization the rekationship\n",
    "gender_duration.plot(kind='bar')\n",
    "plt.xticks(rotation = 360)\n",
    "label('Relationship between Gender and Duration of Ride Per Second', \"Gender\",\"Duration (/s)\")\n",
    "plt.show();"
   ]
  },
  {
   "cell_type": "markdown",
   "metadata": {},
   "source": [
    "### Observations\n",
    "> Interestingly, despite the data set having a male dominace, the plot above shows that the the gender with the highest duration of ride belongs to the other category followed by the female category."
   ]
  },
  {
   "cell_type": "markdown",
   "metadata": {},
   "source": [
    "### Question\n",
    "> What is the relationship between year and user type"
   ]
  },
  {
   "cell_type": "code",
   "execution_count": 36,
   "metadata": {
    "scrolled": false
   },
   "outputs": [
    {
     "data": {
      "image/png": "[encoded data removed]",
      "text/plain": [
       "<Figure size 3600x1080 with 1 Axes>"
      ]
     },
     "metadata": {
      "needs_background": "light"
     },
     "output_type": "display_data"
    }
   ],
   "source": [
    "plt.figure(figsize=(50,15))\n",
    "sb.countplot(data = df, hue = 'user_type', x = 'member_birth_year')\n",
    "label('Relationship Between User Type and Birth Year', 'Birth Year', \"Frequency\");"
   ]
  },
  {
   "cell_type": "markdown",
   "metadata": {},
   "source": [
    "## Observation\n",
    "> There are relatively more subscribers than user across the system in all age category. The year with the highest users has more subscribers than customers in the dataset. We have the most subscribers from the year 1988 and the highest count of customer from the year 1969."
   ]
  },
  {
   "cell_type": "markdown",
   "metadata": {},
   "source": [
    "## Question\n",
    "> What birth year and gender uses the biking system the most"
   ]
  },
  {
   "cell_type": "code",
   "execution_count": 37,
   "metadata": {
    "scrolled": true
   },
   "outputs": [
    {
     "data": {
      "image/png": "[encoded data removed]",
      "text/plain": [
       "<Figure size 3600x1080 with 1 Axes>"
      ]
     },
     "metadata": {
      "needs_background": "light"
     },
     "output_type": "display_data"
    }
   ],
   "source": [
    "plt.figure(figsize=(50,15))\n",
    "sb.countplot(data = df, hue = 'member_gender', x = 'member_birth_year')\n",
    "label('Relationship Bewteen Gender and Birth Year', 'Birth Year', \"Frequency\");"
   ]
  },
  {
   "cell_type": "markdown",
   "metadata": {},
   "source": [
    "## Observation\n",
    "> Interestingly, when comparing year with gender, we see the year 1983 at its peak with the male gender as the most users of the biking system. However, we see the year 1969 being dominated by the others category. Also we see the year with the most female users is the year 1989 '"
   ]
  },
  {
   "cell_type": "markdown",
   "metadata": {},
   "source": [
    "### Talk about some of the relationships you observed in this part of the investigation. How did the feature(s) of interest vary with other features in the dataset?\n",
    "\n",
    ">  Interestingly, we see the duration of a ride can be affected by various factors in our factors of interest.\n",
    "> <br> We see how the data collected cotains a higher percentage from new york city which can be related to why we are having the user with the highest duration from the city of new york, also we can infer that this duration could be as a result of the city because new york is generally a more busy city than sanfransico.\n",
    "> <br> We also see that although it is expected for subscribers to have the user with the longest duration per second, we see that a regular customer has the longest duration.\n",
    "> <br> The gender with the longest duration falls in the other category , this knocks off the expectation of the male category having the duration of rides as the dataset generally contains more male sample.\n",
    "> <br> We see the middle year generation use the cyclying system more, this could be as a result of various factors which the data collceted does not contain, data such as employment status could influence this duration. However it is safe to say the older customers use the biking system most and therefore the highestduration coming from the year 1969.\n",
    "\n",
    "### Did you observe any interesting relationships between the other features (not the main feature(s) of interest)?\n",
    "\n",
    "> For this analysis we focused on variables which we recognized as the main features of the analysis to prevent been side tracked by too many information."
   ]
  },
  {
   "cell_type": "markdown",
   "metadata": {},
   "source": [
    "## Multivariate Exploration\n",
    "\n",
    "> In this section, I am interested in seeing the relation between city, gender user type and duration per seconds."
   ]
  },
  {
   "cell_type": "code",
   "execution_count": 38,
   "metadata": {},
   "outputs": [
    {
     "data": {
      "image/png": "[encoded data removed]",
      "text/plain": [
       "<Figure size 1169.12x360 with 3 Axes>"
      ]
     },
     "metadata": {
      "needs_background": "light"
     },
     "output_type": "display_data"
    }
   ],
   "source": [
    "sb.catplot(data=df, x='city', y = 'duration_sec', hue='user_type', \n",
    "               col='member_gender', kind='bar',  col_wrap = 3)\n",
    "plt.ylabel('Duration (/s)')\n",
    "plt.show();"
   ]
  },
  {
   "cell_type": "markdown",
   "metadata": {},
   "source": [
    "### Talk about some of the relationships you observed in this part of the investigation. Were there features that strengthened each other in terms of looking at your feature(s) of interest?\n",
    "\n",
    ">I extended my investigation of duration against user type, city and gender in this section by looking at the impact of the three categorical quality features. The multivariate exploration here showed that there indeed is a positive effect of city on duration overall. comparing these categories side by side showed the highest duration coming from New york city and in the customer type category from the other gender followed by the female gender.\n",
    "\n",
    "### Were there any interesting or surprising interactions between features?\n",
    "\n",
    "> Looking back on the plots, it doesn't seem like there's a systematic interaction effect between the features and duration. Features also aren't fully independent. But it is interesting in something like gender, discover the female gender tends to cycle longer the male gender."
   ]
  },
  {
   "cell_type": "markdown",
   "metadata": {},
   "source": [
    "## Conclusions\n",
    "> The purpose of this analysis is to see the factors that influenfces the duration of bike rides, the data collected cotained more data from New york city. This inferred people in New york city used the biking system more than people in San Fransico Bay area. \n",
    "> <br> We observed a decline in bike users and the duration of rides as the year went up, this inferred that older people use the biking system more than the younger generation.\n",
    "> <br> We see the longest duration of rides coming from users in the customer category and not the subscriber category this shows that users in the subscribers category do not take long rides.\n",
    "> <br> Finally, we see that generally females cycle longer than the male gender.\n",
    "> \n",
    "> <br> From the analysis conducted, we see that the city has an effect on the duration of rides and also gender. Therefore we can infer that the cycling system is mostly used in New york city by an unidentified gender in the customer category. For futher investigation, more information will need to be collected from users to asertain the reason for trends identified."
   ]
  },
  {
   "cell_type": "markdown",
   "metadata": {},
   "source": [
    "## Reference \n",
    "https://pandas.pydata.org/pandas-docs/stable/user_guide/merging.html"
   ]
  }
 ],
 "metadata": {
  "kernelspec": {
   "display_name": "Python 3 (ipykernel)",
   "language": "python",
   "name": "python3"
  },
  "language_info": {
   "codemirror_mode": {
    "name": "ipython",
    "version": 3
   },
   "file_extension": ".py",
   "mimetype": "text/x-python",
   "name": "python",
   "nbconvert_exporter": "python",
   "pygments_lexer": "ipython3",
   "version": "3.9.12"
  }
 },
 "nbformat": 4,
 "nbformat_minor": 2
}
